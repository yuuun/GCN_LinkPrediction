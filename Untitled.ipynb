{
 "cells": [
  {
   "cell_type": "code",
   "execution_count": 1,
   "metadata": {},
   "outputs": [],
   "source": [
    "import numpy as np\n",
    "import random as rd\n",
    "from collections import defaultdict"
   ]
  },
  {
   "cell_type": "code",
   "execution_count": 3,
   "metadata": {},
   "outputs": [],
   "source": [
    "lines = open('./dataset/oag.edge', 'r').readlines()\n",
    "edge_dict = dict()\n",
    "edge_total_dict = defaultdict(list)\n",
    "edge_list = []\n",
    "\n",
    "for l in lines:\n",
    "    tmp = l.strip() #deleting '\\n'\n",
    "    val = [int(i) for i in tmp.split()]\n",
    "    node_id = val[0] \n",
    "    linked_node = val[1:]\n",
    "\n",
    "    edge_dict[node_id] = linked_node\n",
    "\n",
    "    for node in linked_node:\n",
    "        edge_total_dict[node_id].append(node)\n",
    "        edge_total_dict[node].append(node_id)\n",
    "    for ln in linked_node:\n",
    "        edge_list.append([node_id, ln]) "
   ]
  },
  {
   "cell_type": "code",
   "execution_count": 5,
   "metadata": {},
   "outputs": [],
   "source": [
    "import datetime"
   ]
  },
  {
   "cell_type": "code",
   "execution_count": 10,
   "metadata": {},
   "outputs": [
    {
     "name": "stdout",
     "output_type": "stream",
     "text": [
      "2021-08-13 23:44:33.485680\n"
     ]
    }
   ],
   "source": [
    "exclude_edge = []\n",
    "for node, linked_node in edge_total_dict.items():\n",
    "    if len(linked_node) < 3:\n",
    "        exclude_edge.append(node)\n",
    "\n",
    "print(datetime.datetime.now())"
   ]
  },
  {
   "cell_type": "code",
   "execution_count": 11,
   "metadata": {},
   "outputs": [
    {
     "data": {
      "text/plain": [
       "(21436, 193386)"
      ]
     },
     "execution_count": 11,
     "metadata": {},
     "output_type": "execute_result"
    }
   ],
   "source": [
    "len(exclude_edge), len(edge_total_dict)"
   ]
  },
  {
   "cell_type": "code",
   "execution_count": 26,
   "metadata": {},
   "outputs": [
    {
     "name": "stdout",
     "output_type": "stream",
     "text": [
      "2021-08-14 00:23:57.568290\n"
     ]
    }
   ],
   "source": [
    "candidate_edge_list = []\n",
    "train_list = []\n",
    "for e1, e2 in edge_list:\n",
    "    if e1 not in exclude_edge and e2 not in exclude_edge:\n",
    "        candidate_edge_list.append([e1, e2])\n",
    "    else:\n",
    "        train_list.append([e1, e2])\n",
    "\n",
    "print(datetime.datetime.now())"
   ]
  },
  {
   "cell_type": "code",
   "execution_count": 27,
   "metadata": {},
   "outputs": [
    {
     "name": "stdout",
     "output_type": "stream",
     "text": [
      "2021-08-14 00:23:58.392610\n"
     ]
    }
   ],
   "source": [
    "rd.shuffle(candidate_edge_list)\n",
    "print(datetime.datetime.now())\n"
   ]
  },
  {
   "cell_type": "code",
   "execution_count": 43,
   "metadata": {},
   "outputs": [
    {
     "data": {
      "text/plain": [
       "[[80202, 86515],\n",
       " [84934, 118118],\n",
       " [170475, 111221],\n",
       " [117990, 19178],\n",
       " [51089, 21199],\n",
       " [131467, 178542],\n",
       " [83570, 97098],\n",
       " [128507, 119256],\n",
       " [112574, 98856],\n",
       " [57944, 33854]]"
      ]
     },
     "execution_count": 43,
     "metadata": {},
     "output_type": "execute_result"
    }
   ],
   "source": [
    "candidate_edge_list[:10]"
   ]
  },
  {
   "cell_type": "code",
   "execution_count": 28,
   "metadata": {},
   "outputs": [
    {
     "data": {
      "text/plain": [
       "(31858, 1121500)"
      ]
     },
     "execution_count": 28,
     "metadata": {},
     "output_type": "execute_result"
    }
   ],
   "source": [
    "len(train_list), len(candidate_edge_list)"
   ]
  },
  {
   "cell_type": "code",
   "execution_count": 25,
   "metadata": {},
   "outputs": [
    {
     "name": "stdout",
     "output_type": "stream",
     "text": [
      "[84, 192490]\n",
      "[38, 141189]\n",
      "[151910]\n",
      "[168263]\n",
      "[180161]\n",
      "[53501]\n",
      "[186502]\n",
      "[35722, 135458]\n"
     ]
    }
   ],
   "source": [
    "train_list"
   ]
  },
  {
   "cell_type": "code",
   "execution_count": 29,
   "metadata": {},
   "outputs": [
    {
     "name": "stdout",
     "output_type": "stream",
     "text": [
      "2021-08-14 00:23:58.409971\n"
     ]
    }
   ],
   "source": [
    "n_test = int(len(edge_list) * 0.1)\n",
    "test_list = candidate_edge_list[:n_test]\n",
    "\n",
    "len(test_list)\n",
    "print(datetime.datetime.now())"
   ]
  },
  {
   "cell_type": "code",
   "execution_count": 30,
   "metadata": {},
   "outputs": [],
   "source": [
    "final_train_list = train_list + candidate_edge_list[n_test:]"
   ]
  },
  {
   "cell_type": "code",
   "execution_count": 31,
   "metadata": {},
   "outputs": [
    {
     "data": {
      "text/plain": [
       "1038023"
      ]
     },
     "execution_count": 31,
     "metadata": {},
     "output_type": "execute_result"
    }
   ],
   "source": [
    "len(final_train_list)"
   ]
  },
  {
   "cell_type": "code",
   "execution_count": 32,
   "metadata": {},
   "outputs": [
    {
     "data": {
      "text/plain": [
       "(1121500, 1038023, 115335, 1153358)"
      ]
     },
     "execution_count": 32,
     "metadata": {},
     "output_type": "execute_result"
    }
   ],
   "source": [
    "len(candidate_edge_list), len(final_train_list), len(test_list), len(edge_list)"
   ]
  },
  {
   "cell_type": "code",
   "execution_count": 33,
   "metadata": {},
   "outputs": [],
   "source": [
    "final_train_list = sorted(final_train_list, key=lambda x:(x[0], x[1]))\n",
    "test_list = sorted(test_list, key=lambda x:(x[0], x[1]))"
   ]
  },
  {
   "cell_type": "code",
   "execution_count": 34,
   "metadata": {},
   "outputs": [
    {
     "data": {
      "text/plain": [
       "[[0, 42917],\n",
       " [0, 60465],\n",
       " [1, 67393],\n",
       " [1, 100047],\n",
       " [1, 119291],\n",
       " [2, 100047],\n",
       " [3, 652],\n",
       " [3, 150897],\n",
       " [3, 152346],\n",
       " [4, 1062]]"
      ]
     },
     "execution_count": 34,
     "metadata": {},
     "output_type": "execute_result"
    }
   ],
   "source": [
    "final_train_list[:10]"
   ]
  },
  {
   "cell_type": "code",
   "execution_count": 35,
   "metadata": {},
   "outputs": [
    {
     "data": {
      "text/plain": [
       "[[0, 49223],\n",
       " [0, 50471],\n",
       " [7, 46986],\n",
       " [7, 111543],\n",
       " [7, 144197],\n",
       " [8, 8734],\n",
       " [8, 181134],\n",
       " [9, 77079],\n",
       " [9, 98184],\n",
       " [9, 111723]]"
      ]
     },
     "execution_count": 35,
     "metadata": {},
     "output_type": "execute_result"
    }
   ],
   "source": [
    "test_list[:10]"
   ]
  },
  {
   "cell_type": "code",
   "execution_count": 46,
   "metadata": {},
   "outputs": [],
   "source": [
    "with open('./dataset/train.edge', 'w') as f:\n",
    "    for e1, e2 in final_train_list:\n",
    "        f.write(str(e1) + ' ' + str(e2) + '\\n')\n",
    "\n",
    "with open('./dataset/test.edge', 'w') as f:\n",
    "    for e1, e2 in test_list:\n",
    "        f.write(str(e1) + ' ' + str(e2) + '\\n')"
   ]
  },
  {
   "cell_type": "code",
   "execution_count": null,
   "metadata": {},
   "outputs": [],
   "source": []
  }
 ],
 "metadata": {
  "kernelspec": {
   "display_name": "gcc",
   "language": "python",
   "name": "gcc"
  },
  "language_info": {
   "codemirror_mode": {
    "name": "ipython",
    "version": 3
   },
   "file_extension": ".py",
   "mimetype": "text/x-python",
   "name": "python",
   "nbconvert_exporter": "python",
   "pygments_lexer": "ipython3",
   "version": "3.7.10"
  }
 },
 "nbformat": 4,
 "nbformat_minor": 4
}
